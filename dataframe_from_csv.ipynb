{
 "cells": [
  {
   "cell_type": "code",
   "execution_count": 4,
   "id": "6aff01d9-c085-408a-882c-a174ad171be3",
   "metadata": {},
   "outputs": [],
   "source": [
    "import pandas as pd"
   ]
  },
  {
   "cell_type": "code",
   "execution_count": 8,
   "id": "ff3e495c-1eba-40ad-8246-e0332bd6c0dc",
   "metadata": {},
   "outputs": [],
   "source": [
    "df = pd.DataFrame({'Yes': [50,21], 'No' : [131,2]})"
   ]
  },
  {
   "cell_type": "code",
   "execution_count": 10,
   "id": "80936472-6faf-46c7-86c0-9d6c6aa6d521",
   "metadata": {},
   "outputs": [
    {
     "name": "stdout",
     "output_type": "stream",
     "text": [
      "   Yes   No\n",
      "0   50  131\n",
      "1   21    2\n"
     ]
    }
   ],
   "source": [
    "print(df)"
   ]
  },
  {
   "cell_type": "code",
   "execution_count": 12,
   "id": "bc494abb-8832-4fae-acc9-ac1c06bd2645",
   "metadata": {},
   "outputs": [
    {
     "name": "stdout",
     "output_type": "stream",
     "text": [
      "Yes     50\n",
      "No     131\n",
      "Name: 0, dtype: int64\n"
     ]
    }
   ],
   "source": [
    "print(df.loc[0])"
   ]
  },
  {
   "cell_type": "code",
   "execution_count": 14,
   "id": "677e4502-53fc-4a8d-99f9-7e94318b098f",
   "metadata": {},
   "outputs": [
    {
     "name": "stdout",
     "output_type": "stream",
     "text": [
      "   Yes   No\n",
      "0   50  131\n",
      "1   21    2\n"
     ]
    }
   ],
   "source": [
    "print(df.loc[[0,1]])"
   ]
  },
  {
   "cell_type": "code",
   "execution_count": null,
   "id": "7e09444f-852d-4810-8ffb-a3e2b7e2f3cb",
   "metadata": {},
   "outputs": [],
   "source": []
  }
 ],
 "metadata": {
  "kernelspec": {
   "display_name": "Python 3 (ipykernel)",
   "language": "python",
   "name": "python3"
  },
  "language_info": {
   "codemirror_mode": {
    "name": "ipython",
    "version": 3
   },
   "file_extension": ".py",
   "mimetype": "text/x-python",
   "name": "python",
   "nbconvert_exporter": "python",
   "pygments_lexer": "ipython3",
   "version": "3.12.2"
  }
 },
 "nbformat": 4,
 "nbformat_minor": 5
}
